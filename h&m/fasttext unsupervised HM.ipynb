{
 "cells": [
  {
   "cell_type": "code",
   "execution_count": 1,
   "id": "b09a226b",
   "metadata": {},
   "outputs": [],
   "source": [
    "import pickle\n",
    "import itertools\n",
    "import numpy as np\n",
    "import pandas as pd\n",
    "import fasttext\n",
    "\n",
    "from sklearn.cluster import KMeans\n",
    "from scipy.sparse import csr_matrix\n",
    "from sklearn.preprocessing import normalize\n",
    "from sklearn.metrics import silhouette_score\n",
    "from tqdm import tqdm\n",
    "\n",
    "pd.set_option(\"max_colwidth\", None)\n",
    "pd.set_option('display.max_rows', 200)"
   ]
  },
  {
   "cell_type": "code",
   "execution_count": 2,
   "id": "dad08282",
   "metadata": {},
   "outputs": [],
   "source": [
    "df = pd.read_csv('data/transactions_train.csv')\n",
    "customers = pd.read_csv('data/customers.csv')\n",
    "articles = pd.read_csv('data/articles.csv')"
   ]
  },
  {
   "cell_type": "code",
   "execution_count": 3,
   "id": "bca5bc53",
   "metadata": {},
   "outputs": [],
   "source": [
    "articles = articles.drop(['detail_desc'],axis=1)"
   ]
  },
  {
   "cell_type": "code",
   "execution_count": 4,
   "id": "8bbc1f5a",
   "metadata": {},
   "outputs": [
    {
     "name": "stderr",
     "output_type": "stream",
     "text": [
      "100%|███████████████████████████████████████████| 28/28 [00:29<00:00,  1.05s/it]\n"
     ]
    }
   ],
   "source": [
    "tqdm.pandas()\n",
    "d_df = df.merge(articles, left_on='article_id', right_on='article_id').progress_apply(lambda x: x)"
   ]
  },
  {
   "cell_type": "code",
   "execution_count": 5,
   "id": "48221e47",
   "metadata": {},
   "outputs": [],
   "source": [
    "d_df = d_df.drop(['t_dat', 'article_id', 'price', 'sales_channel_id',\n",
    "       'product_code', 'product_type_no', 'product_type_name',\n",
    "       'product_group_name', 'graphical_appearance_no',\n",
    "       'graphical_appearance_name', 'colour_group_code', 'colour_group_name',\n",
    "       'perceived_colour_value_id', 'perceived_colour_value_name',\n",
    "       'perceived_colour_master_id', 'perceived_colour_master_name',\n",
    "       'department_no', 'department_name', 'index_code', 'index_name',\n",
    "       'index_group_no', 'index_group_name', 'section_no', 'section_name',\n",
    "       'garment_group_no', 'garment_group_name'],axis=1)"
   ]
  },
  {
   "cell_type": "code",
   "execution_count": 6,
   "id": "bb4e356c",
   "metadata": {},
   "outputs": [],
   "source": [
    "add_prod_name_by_user = []"
   ]
  },
  {
   "cell_type": "code",
   "execution_count": 8,
   "id": "aa411fca",
   "metadata": {},
   "outputs": [],
   "source": [
    "d_df['prod_name'] = d_df['prod_name'].str.replace(' ', '')"
   ]
  },
  {
   "cell_type": "code",
   "execution_count": 10,
   "id": "6bdb0802",
   "metadata": {},
   "outputs": [
    {
     "name": "stderr",
     "output_type": "stream",
     "text": [
      "100%|██████████████████████████████| 1362281/1362281 [00:20<00:00, 67295.57it/s]\n"
     ]
    }
   ],
   "source": [
    "tqdm.pandas()\n",
    "fasttext_train_text = d_df.groupby(['customer_id'])['prod_name'].progress_apply(' '.join).reset_index()"
   ]
  },
  {
   "cell_type": "code",
   "execution_count": 11,
   "id": "07419f02",
   "metadata": {},
   "outputs": [
    {
     "data": {
      "text/html": [
       "<div>\n",
       "<style scoped>\n",
       "    .dataframe tbody tr th:only-of-type {\n",
       "        vertical-align: middle;\n",
       "    }\n",
       "\n",
       "    .dataframe tbody tr th {\n",
       "        vertical-align: top;\n",
       "    }\n",
       "\n",
       "    .dataframe thead th {\n",
       "        text-align: right;\n",
       "    }\n",
       "</style>\n",
       "<table border=\"1\" class=\"dataframe\">\n",
       "  <thead>\n",
       "    <tr style=\"text-align: right;\">\n",
       "      <th></th>\n",
       "      <th>customer_id</th>\n",
       "      <th>prod_name</th>\n",
       "    </tr>\n",
       "  </thead>\n",
       "  <tbody>\n",
       "    <tr>\n",
       "      <th>0</th>\n",
       "      <td>00000dbacae5abe5e23885899a1fa44253a17956c6d1c3d25f88aa139fdfc657</td>\n",
       "      <td>SerpenteHWslimtrouser MarietteBlazer MarietteBlazer FLORAparka BBChrispuffjktTP MrHarringtonw/hood TheFirm(1) Sophiejumpsuit SkirtMiniStretchEdie Juan Buggblazer Buggblazer SKIGLOVEBASIC Malm Twistteel/stop NottingHill Jentee Siraptee SPEEDPanameratop Arubadenimjkt MarietteBlazer</td>\n",
       "    </tr>\n",
       "    <tr>\n",
       "      <th>1</th>\n",
       "      <td>0000423b00ade91418cceaf3b26c6af3dd342b51fd051eec9c12fb36984420fa</td>\n",
       "      <td>SveaCroppedTank Henrypolo.(1) CORYCORDSKIRT SkirtMini PerrieTrashHWDenimTRS Noeldenimdress Noeldenimdress BasicGiginecklace Sirpamockneck LazerRazerBrief LazerRazerBrief LazerRazerBrief LolaLace-Up LolaLace-Up PortofinoISW28 Janetsweater Janetsweater Dido Thelmapoloneck Bristoljerseyblz LazerRazerAdj.pushtriangle LazerRazerAdj.pushtriangle LazerRazerAdj.pushtriangle Majkenloafer Fionabrazilian(Acacia)4p Bobbycutoutboot TimelessPaddedBra TimelessPaddedBra TimelessPaddedBra TimelessMidriseBrief TimelessMidriseBrief RosemaryCoat PerrieTrashHWDenimTRS KellyPush(Melbourne)ctn2p Tildatank Bellora(1) GirlfriendR.WTrash TimelessPushTriangle TimelessTieTanga GirlfriendR.WTrash Christinamid Montysandalwindow Pamela Pamela Claudine ClassJuditnecklace WRENSINGOALLATANK CROWRIBSTRAPTOP Judylacetop Drogbatenceltunic Pipertop RaileyTop PQ/PUFemininCrossbag Grandatank Beastalloverlacesoftbra EmbraceS.SkinnyH.WTrash EmbraceS.SkinnyH.WTrash Fleur Mossdress MulanBelted Chestnutstraptop Kiwisweatshirt TimelessMidriseBrief TimelessMidriseBrief NewGirlPushTop NewGirlPushTop DAVIDbasicset2PCS PushitPushBra. BorisFancyCap TimelessCheekyBrief TimelessCheekyBrief HULDAtie HULDAtie EpicPaddedSwimsuit TimelessMidriseBrief TimelessMidriseBrief TimelessMidriseBrief TimelessTriangleTop SuperwomanSuperpush SuperwomanSuperpush SuperwomanSuperpush SuperwomanSuperpush KnotBitterTop KnotBitterTop KnotBitterDetBrief KnotBitterDetBrief</td>\n",
       "    </tr>\n",
       "    <tr>\n",
       "      <th>2</th>\n",
       "      <td>000058a12d5b43e67d225668fa1f8d618c13dc232df0cad8ffe7ad4a1091e318</td>\n",
       "      <td>AtlantaPushBodyHarlow AtlantaPushBodyHarlow RaePush(Melbourne)2p PlutoOTS LazerRazerBrief LazerRazerBrief LazerRazerAdj.pushtriangle R-NeckPisaTVP R-NeckPisaTVP SPEEDELLABELTEDBLOUSE Floridaskirt PEZSWEATER SnowchinoTVPRW SnowchinoTVPRW PEZSWEATER Seahorselinen Seahorselinen SULIMAjkt</td>\n",
       "    </tr>\n",
       "    <tr>\n",
       "      <th>3</th>\n",
       "      <td>00005ca1c9ed5f5146b52ac8639a40ca9d57aeff4d1bd2c5feb1ca5dff07c43e</td>\n",
       "      <td>PANORAMAsportsbra Panoramamidsupportbra</td>\n",
       "    </tr>\n",
       "    <tr>\n",
       "      <th>4</th>\n",
       "      <td>00006413d8573cd20ed7128e53b7b13819fe5cfc2d801fe7fc0f26dd8d65a85a</td>\n",
       "      <td>Hedwigessential JacketSlim JacketSlim Molly BabyLockMeUpPushTriangle ShakeitinTieBrief Valentinapaddedbody1 ElenapaddedLTbody Lashsoftbody HAVANAHWtights Battleshipdress Speedyconscioustee Amelie</td>\n",
       "    </tr>\n",
       "  </tbody>\n",
       "</table>\n",
       "</div>"
      ],
      "text/plain": [
       "                                                        customer_id  \\\n",
       "0  00000dbacae5abe5e23885899a1fa44253a17956c6d1c3d25f88aa139fdfc657   \n",
       "1  0000423b00ade91418cceaf3b26c6af3dd342b51fd051eec9c12fb36984420fa   \n",
       "2  000058a12d5b43e67d225668fa1f8d618c13dc232df0cad8ffe7ad4a1091e318   \n",
       "3  00005ca1c9ed5f5146b52ac8639a40ca9d57aeff4d1bd2c5feb1ca5dff07c43e   \n",
       "4  00006413d8573cd20ed7128e53b7b13819fe5cfc2d801fe7fc0f26dd8d65a85a   \n",
       "\n",
       "                                                                                                                                                                                                                                                                                                                                                                                                                                                                                                                                                                                                                                                                                                                                                                                                                                                                                                                                                                                                                                                                                                                                                                                                                                                                                                                                                                                                                                                                       prod_name  \n",
       "0                                                                                                                                                                                                                                                                                                                                                                                                                                                                                                                                                                                                                                                                                                                                                                                                                                                                                                                                                                                                                                                                                                                                                                                       SerpenteHWslimtrouser MarietteBlazer MarietteBlazer FLORAparka BBChrispuffjktTP MrHarringtonw/hood TheFirm(1) Sophiejumpsuit SkirtMiniStretchEdie Juan Buggblazer Buggblazer SKIGLOVEBASIC Malm Twistteel/stop NottingHill Jentee Siraptee SPEEDPanameratop Arubadenimjkt MarietteBlazer  \n",
       "1  SveaCroppedTank Henrypolo.(1) CORYCORDSKIRT SkirtMini PerrieTrashHWDenimTRS Noeldenimdress Noeldenimdress BasicGiginecklace Sirpamockneck LazerRazerBrief LazerRazerBrief LazerRazerBrief LolaLace-Up LolaLace-Up PortofinoISW28 Janetsweater Janetsweater Dido Thelmapoloneck Bristoljerseyblz LazerRazerAdj.pushtriangle LazerRazerAdj.pushtriangle LazerRazerAdj.pushtriangle Majkenloafer Fionabrazilian(Acacia)4p Bobbycutoutboot TimelessPaddedBra TimelessPaddedBra TimelessPaddedBra TimelessMidriseBrief TimelessMidriseBrief RosemaryCoat PerrieTrashHWDenimTRS KellyPush(Melbourne)ctn2p Tildatank Bellora(1) GirlfriendR.WTrash TimelessPushTriangle TimelessTieTanga GirlfriendR.WTrash Christinamid Montysandalwindow Pamela Pamela Claudine ClassJuditnecklace WRENSINGOALLATANK CROWRIBSTRAPTOP Judylacetop Drogbatenceltunic Pipertop RaileyTop PQ/PUFemininCrossbag Grandatank Beastalloverlacesoftbra EmbraceS.SkinnyH.WTrash EmbraceS.SkinnyH.WTrash Fleur Mossdress MulanBelted Chestnutstraptop Kiwisweatshirt TimelessMidriseBrief TimelessMidriseBrief NewGirlPushTop NewGirlPushTop DAVIDbasicset2PCS PushitPushBra. BorisFancyCap TimelessCheekyBrief TimelessCheekyBrief HULDAtie HULDAtie EpicPaddedSwimsuit TimelessMidriseBrief TimelessMidriseBrief TimelessMidriseBrief TimelessTriangleTop SuperwomanSuperpush SuperwomanSuperpush SuperwomanSuperpush SuperwomanSuperpush KnotBitterTop KnotBitterTop KnotBitterDetBrief KnotBitterDetBrief  \n",
       "2                                                                                                                                                                                                                                                                                                                                                                                                                                                                                                                                                                                                                                                                                                                                                                                                                                                                                                                                                                                                                                                                                                                                                                                  AtlantaPushBodyHarlow AtlantaPushBodyHarlow RaePush(Melbourne)2p PlutoOTS LazerRazerBrief LazerRazerBrief LazerRazerAdj.pushtriangle R-NeckPisaTVP R-NeckPisaTVP SPEEDELLABELTEDBLOUSE Floridaskirt PEZSWEATER SnowchinoTVPRW SnowchinoTVPRW PEZSWEATER Seahorselinen Seahorselinen SULIMAjkt  \n",
       "3                                                                                                                                                                                                                                                                                                                                                                                                                                                                                                                                                                                                                                                                                                                                                                                                                                                                                                                                                                                                                                                                                                                                                                                                                                                                                                                                                                                                                                        PANORAMAsportsbra Panoramamidsupportbra  \n",
       "4                                                                                                                                                                                                                                                                                                                                                                                                                                                                                                                                                                                                                                                                                                                                                                                                                                                                                                                                                                                                                                                                                                                                                                                                                                                                            Hedwigessential JacketSlim JacketSlim Molly BabyLockMeUpPushTriangle ShakeitinTieBrief Valentinapaddedbody1 ElenapaddedLTbody Lashsoftbody HAVANAHWtights Battleshipdress Speedyconscioustee Amelie  "
      ]
     },
     "execution_count": 11,
     "metadata": {},
     "output_type": "execute_result"
    }
   ],
   "source": [
    "fasttext_train_text[:5]"
   ]
  },
  {
   "cell_type": "code",
   "execution_count": 12,
   "id": "18f982b1",
   "metadata": {},
   "outputs": [
    {
     "name": "stderr",
     "output_type": "stream",
     "text": [
      "100%|████████████████████████████| 1362281/1362281 [00:00<00:00, 1475462.28it/s]\n"
     ]
    }
   ],
   "source": [
    "with open('data/unsupervised_fasttext_train.txt', 'w', encoding=\"utf-8\") as f:\n",
    "    for line in tqdm(fasttext_train_text.prod_name.values):\n",
    "        f.write(line)\n",
    "        f.write('\\n')"
   ]
  },
  {
   "cell_type": "code",
   "execution_count": 13,
   "id": "97748cc5",
   "metadata": {},
   "outputs": [],
   "source": [
    "unsupervised_fliename = 'unsupervised_fasttext_train.txt'"
   ]
  },
  {
   "cell_type": "code",
   "execution_count": 14,
   "id": "7dc07c8e",
   "metadata": {},
   "outputs": [
    {
     "name": "stderr",
     "output_type": "stream",
     "text": [
      "Read 33M words\n",
      "Number of words:  40986\n",
      "Number of labels: 0\n",
      "Progress: 100.0% words/sec/thread:   84242 lr:  0.000000 avg.loss:  0.818649 ETA:   0h 0m 0s  7.6% words/sec/thread:   84928 lr:  0.046213 avg.loss:  1.703918 ETA:   0h 4m17s 16.8% words/sec/thread:   84712 lr:  0.041610 avg.loss:  1.660767 ETA:   0h 3m52s 36.5% words/sec/thread:   84867 lr:  0.031726 avg.loss:  1.469090 ETA:   0h 2m57s 39.1% words/sec/thread:   84854 lr:  0.030426 avg.loss:  1.455538 ETA:   0h 2m49s 41.4% words/sec/thread:   84864 lr:  0.029323 avg.loss:  1.445768 ETA:   0h 2m43s 42.9% words/sec/thread:   84875 lr:  0.028539 avg.loss:  1.439208 ETA:   0h 2m39s 52.9% words/sec/thread:   84923 lr:  0.023563 avg.loss:  1.240107 ETA:   0h 2m11s 59.1% words/sec/thread:   84705 lr:  0.020465 avg.loss:  1.145505 ETA:   0h 1m54s 79.4% words/sec/thread:   84546 lr:  0.010281 avg.loss:  0.941481 ETA:   0h 0m57s 96.7% words/sec/thread:   84341 lr:  0.001636 avg.loss:  0.834397 ETA:   0h 0m 9s\n"
     ]
    }
   ],
   "source": [
    "model = fasttext.train_unsupervised(unsupervised_fliename,\n",
    "                                    dim=10)"
   ]
  },
  {
   "cell_type": "code",
   "execution_count": 15,
   "id": "19004192",
   "metadata": {},
   "outputs": [],
   "source": [
    "model.save_model('models/ftext_bk_unsupervised_10.bin')"
   ]
  },
  {
   "cell_type": "markdown",
   "id": "df3a0bfa-0007-454e-989a-e0001454f29e",
   "metadata": {},
   "source": [
    "---"
   ]
  }
 ],
 "metadata": {
  "kernelspec": {
   "display_name": "Python 3.9.7 ('base')",
   "language": "python",
   "name": "python397jvsc74a57bd0906b979041c283a601a11438abfa7d47ca09ccacf699980db2ede086e4f51440"
  },
  "language_info": {
   "codemirror_mode": {
    "name": "ipython",
    "version": 3
   },
   "file_extension": ".py",
   "mimetype": "text/x-python",
   "name": "python",
   "nbconvert_exporter": "python",
   "pygments_lexer": "ipython3",
   "version": "3.9.7"
  }
 },
 "nbformat": 4,
 "nbformat_minor": 5
}
