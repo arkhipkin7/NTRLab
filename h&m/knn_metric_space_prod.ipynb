{
 "cells": [
  {
   "cell_type": "code",
   "execution_count": 1,
   "id": "31a681ba-daaf-43cf-af12-fec9e414afcf",
   "metadata": {
    "executionInfo": {
     "elapsed": 9,
     "status": "ok",
     "timestamp": 1646234086963,
     "user": {
      "displayName": "Mikhail Arhipkin",
      "photoUrl": "https://lh3.googleusercontent.com/a/default-user=s64",
      "userId": "16295844386857345050"
     },
     "user_tz": -180
    },
    "id": "31a681ba-daaf-43cf-af12-fec9e414afcf"
   },
   "outputs": [],
   "source": [
    "import re\n",
    "import fasttext\n",
    "import numpy as np\n",
    "import pandas as pd\n",
    "\n",
    "from tqdm import tqdm\n",
    "from collections import OrderedDict\n",
    "\n",
    "pd.set_option(\"max_colwidth\", None)"
   ]
  },
  {
   "cell_type": "markdown",
   "id": "33a9e916-6e48-477c-ac3c-ecb888d67d54",
   "metadata": {
    "id": "33a9e916-6e48-477c-ac3c-ecb888d67d54",
    "tags": []
   },
   "source": [
    "## load data"
   ]
  },
  {
   "cell_type": "code",
   "execution_count": 2,
   "id": "cfa48588-6239-4323-9b5f-c60018783f2d",
   "metadata": {},
   "outputs": [],
   "source": [
    "path = 'data/'\n",
    "path_model = 'models/'"
   ]
  },
  {
   "cell_type": "code",
   "execution_count": 3,
   "id": "dab504fc-a6e0-4f6b-b6ff-fbbaba616ecc",
   "metadata": {
    "colab": {
     "base_uri": "https://localhost:8080/"
    },
    "executionInfo": {
     "elapsed": 77762,
     "status": "ok",
     "timestamp": 1646234193733,
     "user": {
      "displayName": "Mikhail Arhipkin",
      "photoUrl": "https://lh3.googleusercontent.com/a/default-user=s64",
      "userId": "16295844386857345050"
     },
     "user_tz": -180
    },
    "id": "dab504fc-a6e0-4f6b-b6ff-fbbaba616ecc",
    "outputId": "be208e27-c453-4192-c401-1db48ce63930"
   },
   "outputs": [
    {
     "name": "stdout",
     "output_type": "stream",
     "text": [
      "\n",
      "Articles shape: (105542, 25)\n",
      "\n",
      "Submussion shape: (1371980, 2)\n",
      "\n",
      "Customer shape: (1371980, 7)\n",
      "\n",
      "Transactions shape: (31788324, 5)\n",
      "CPU times: user 18.6 s, sys: 2.69 s, total: 21.3 s\n",
      "Wall time: 22.4 s\n"
     ]
    }
   ],
   "source": [
    "%%time\n",
    "articles = pd.read_csv(path+'articles.csv')\n",
    "print(f'\\nArticles shape: {articles.shape}')\n",
    "\n",
    "submission = pd.read_csv(path + 'sample_submission.csv')\n",
    "print(f'\\nSubmussion shape: {submission.shape}')\n",
    "\n",
    "customers = pd.read_csv(path + 'customers.csv')\n",
    "print(f'\\nCustomer shape: {customers.shape}')\n",
    "\n",
    "transactions = pd.read_csv(path+ 'transactions_train.csv')\n",
    "print(f'\\nTransactions shape: {transactions.shape}')"
   ]
  },
  {
   "cell_type": "markdown",
   "id": "087bc858-b0ba-46b4-86d6-c824c7daa165",
   "metadata": {
    "id": "087bc858-b0ba-46b4-86d6-c824c7daa165",
    "tags": []
   },
   "source": [
    "## load model"
   ]
  },
  {
   "cell_type": "code",
   "execution_count": 4,
   "id": "9c4b1dc9-9304-47df-a63a-59779b6286dd",
   "metadata": {
    "colab": {
     "base_uri": "https://localhost:8080/"
    },
    "executionInfo": {
     "elapsed": 6086,
     "status": "ok",
     "timestamp": 1646234199817,
     "user": {
      "displayName": "Mikhail Arhipkin",
      "photoUrl": "https://lh3.googleusercontent.com/a/default-user=s64",
      "userId": "16295844386857345050"
     },
     "user_tz": -180
    },
    "id": "9c4b1dc9-9304-47df-a63a-59779b6286dd",
    "outputId": "f328b338-ea31-459a-b33d-c1fe7be6c043"
   },
   "outputs": [
    {
     "name": "stdout",
     "output_type": "stream",
     "text": [
      "CPU times: user 104 ms, sys: 98.5 ms, total: 202 ms\n",
      "Wall time: 238 ms\n"
     ]
    },
    {
     "name": "stderr",
     "output_type": "stream",
     "text": [
      "Warning : `load_model` does not return WordVectorModel or SupervisedModel any more, but a `FastText` object which is very similar.\n"
     ]
    }
   ],
   "source": [
    "%%time\n",
    "model_name = 'ftext_bk_unsupervised_40.bin'\n",
    "model = fasttext.load_model(path_model + model_name)"
   ]
  },
  {
   "cell_type": "markdown",
   "id": "32e6e629-6a37-442d-a57c-85074f21f41c",
   "metadata": {
    "id": "32e6e629-6a37-442d-a57c-85074f21f41c",
    "tags": []
   },
   "source": [
    "## helper functions"
   ]
  },
  {
   "cell_type": "code",
   "execution_count": 5,
   "id": "b2ee8ab5-1b68-49c2-92d7-9dfbfe6a94a4",
   "metadata": {
    "executionInfo": {
     "elapsed": 3,
     "status": "ok",
     "timestamp": 1646234199818,
     "user": {
      "displayName": "Mikhail Arhipkin",
      "photoUrl": "https://lh3.googleusercontent.com/a/default-user=s64",
      "userId": "16295844386857345050"
     },
     "user_tz": -180
    },
    "id": "b2ee8ab5-1b68-49c2-92d7-9dfbfe6a94a4"
   },
   "outputs": [],
   "source": [
    "def cosine_similarity(vector1, vector2):\n",
    "    vector1 = np.array(vector1)\n",
    "    vector2 = np.array(vector2)\n",
    "    return np.dot(vector1, vector2) / (np.sqrt(np.sum(vector1**2)) * np.sqrt(np.sum(vector2**2)))"
   ]
  },
  {
   "cell_type": "markdown",
   "id": "2e62357c-908d-4375-bac6-f9b27a9efffe",
   "metadata": {
    "id": "2e62357c-908d-4375-bac6-f9b27a9efffe"
   },
   "source": [
    "## Preprocessing data"
   ]
  },
  {
   "cell_type": "code",
   "execution_count": 6,
   "id": "c5886c07-a9ee-47ef-9ec2-4a5891a0b4cf",
   "metadata": {
    "colab": {
     "base_uri": "https://localhost:8080/"
    },
    "executionInfo": {
     "elapsed": 38536,
     "status": "ok",
     "timestamp": 1646234238352,
     "user": {
      "displayName": "Mikhail Arhipkin",
      "photoUrl": "https://lh3.googleusercontent.com/a/default-user=s64",
      "userId": "16295844386857345050"
     },
     "user_tz": -180
    },
    "id": "c5886c07-a9ee-47ef-9ec2-4a5891a0b4cf",
    "outputId": "e078f20c-9e78-4c4b-9f08-636accfee71d"
   },
   "outputs": [
    {
     "name": "stderr",
     "output_type": "stream",
     "text": [
      "100%|█████████████████████████████████████████████| 6/6 [00:05<00:00,  1.03it/s]\n"
     ]
    }
   ],
   "source": [
    "#\n",
    "tqdm.pandas()\n",
    "d_df = transactions.merge(articles[['article_id', 'prod_name']], left_on='article_id', right_on='article_id').progress_apply(lambda x: x)"
   ]
  },
  {
   "cell_type": "code",
   "execution_count": 7,
   "id": "b201a525-36b0-4531-9118-d65babc747f7",
   "metadata": {
    "executionInfo": {
     "elapsed": 23624,
     "status": "ok",
     "timestamp": 1646234272751,
     "user": {
      "displayName": "Mikhail Arhipkin",
      "photoUrl": "https://lh3.googleusercontent.com/a/default-user=s64",
      "userId": "16295844386857345050"
     },
     "user_tz": -180
    },
    "id": "b201a525-36b0-4531-9118-d65babc747f7"
   },
   "outputs": [
    {
     "name": "stdout",
     "output_type": "stream",
     "text": [
      "CPU times: user 5.53 s, sys: 1.62 s, total: 7.16 s\n",
      "Wall time: 8.16 s\n"
     ]
    }
   ],
   "source": [
    "%%time\n",
    "d_df['prod_name'] = d_df['prod_name'].str.replace(' ', '')"
   ]
  },
  {
   "cell_type": "code",
   "execution_count": 8,
   "id": "494683ce-354a-49ba-8463-d3812368a505",
   "metadata": {
    "colab": {
     "base_uri": "https://localhost:8080/"
    },
    "executionInfo": {
     "elapsed": 118689,
     "status": "ok",
     "timestamp": 1646234400175,
     "user": {
      "displayName": "Mikhail Arhipkin",
      "photoUrl": "https://lh3.googleusercontent.com/a/default-user=s64",
      "userId": "16295844386857345050"
     },
     "user_tz": -180
    },
    "id": "494683ce-354a-49ba-8463-d3812368a505",
    "outputId": "228c8cc2-2bda-45e4-83e4-f25daf994bc0"
   },
   "outputs": [
    {
     "name": "stderr",
     "output_type": "stream",
     "text": [
      "100%|██████████████████████████████| 1362281/1362281 [01:44<00:00, 13075.42it/s]\n"
     ]
    }
   ],
   "source": [
    "tqdm.pandas()\n",
    "fasttext_train_text = d_df.groupby(['customer_id'])['prod_name'].progress_apply(' '.join).reset_index()"
   ]
  },
  {
   "cell_type": "code",
   "execution_count": 9,
   "id": "6cee735e-cda4-465f-9e6e-109e2b2c6b0e",
   "metadata": {
    "colab": {
     "base_uri": "https://localhost:8080/"
    },
    "executionInfo": {
     "elapsed": 94721,
     "status": "ok",
     "timestamp": 1646234580184,
     "user": {
      "displayName": "Mikhail Arhipkin",
      "photoUrl": "https://lh3.googleusercontent.com/a/default-user=s64",
      "userId": "16295844386857345050"
     },
     "user_tz": -180
    },
    "id": "6cee735e-cda4-465f-9e6e-109e2b2c6b0e",
    "outputId": "b707fb4c-a9df-4987-eff3-79dcacc8ce0e"
   },
   "outputs": [
    {
     "name": "stdout",
     "output_type": "stream",
     "text": [
      "CPU times: user 19.6 s, sys: 623 ms, total: 20.3 s\n",
      "Wall time: 20.9 s\n"
     ]
    }
   ],
   "source": [
    "%%time\n",
    "fasttext_train_text_dct = {}\n",
    "for ind, val in fasttext_train_text.iterrows():\n",
    "    fasttext_train_text_dct[val['customer_id']] = val['prod_name']"
   ]
  },
  {
   "cell_type": "code",
   "execution_count": null,
   "id": "YhscpAonQABc",
   "metadata": {
    "executionInfo": {
     "elapsed": 119021,
     "status": "ok",
     "timestamp": 1646235153827,
     "user": {
      "displayName": "Mikhail Arhipkin",
      "photoUrl": "https://lh3.googleusercontent.com/a/default-user=s64",
      "userId": "16295844386857345050"
     },
     "user_tz": -180
    },
    "id": "YhscpAonQABc"
   },
   "outputs": [],
   "source": [
    "%%time\n",
    "y1_train = d_df.sort_values(by=['customer_id', 't_dat']).groupby(\n",
    "    'customer_id').tail(1)[['customer_id', 'article_id']]"
   ]
  },
  {
   "cell_type": "code",
   "execution_count": null,
   "id": "XHQF53cZQQmy",
   "metadata": {
    "colab": {
     "base_uri": "https://localhost:8080/"
    },
    "executionInfo": {
     "elapsed": 27155,
     "status": "ok",
     "timestamp": 1646235236469,
     "user": {
      "displayName": "Mikhail Arhipkin",
      "photoUrl": "https://lh3.googleusercontent.com/a/default-user=s64",
      "userId": "16295844386857345050"
     },
     "user_tz": -180
    },
    "id": "XHQF53cZQQmy",
    "outputId": "22f30674-1fd9-4bd1-b674-aa0b6521c9ff"
   },
   "outputs": [],
   "source": [
    "y1_train.shape[0] == d_df.customer_id.unique().shape[0]"
   ]
  },
  {
   "cell_type": "code",
   "execution_count": null,
   "id": "xXrsXmtnOM1X",
   "metadata": {
    "executionInfo": {
     "elapsed": 92978,
     "status": "ok",
     "timestamp": 1646235332094,
     "user": {
      "displayName": "Mikhail Arhipkin",
      "photoUrl": "https://lh3.googleusercontent.com/a/default-user=s64",
      "userId": "16295844386857345050"
     },
     "user_tz": -180
    },
    "id": "xXrsXmtnOM1X"
   },
   "outputs": [],
   "source": [
    "%%time\n",
    "y1_train_dct = {}\n",
    "for ind, val in y1_train.iterrows():\n",
    "    y1_train_dct[val['customer_id']] = val['article_id']"
   ]
  },
  {
   "cell_type": "markdown",
   "id": "c7fa590e-3bd1-4462-ba95-af6ea9d65b07",
   "metadata": {
    "id": "c7fa590e-3bd1-4462-ba95-af6ea9d65b07"
   },
   "source": [
    "---"
   ]
  },
  {
   "cell_type": "code",
   "execution_count": null,
   "id": "c0be60c6-b882-447b-9ee6-f5baaa09e2bd",
   "metadata": {},
   "outputs": [],
   "source": [
    "%%time\n",
    "users = fasttext_train_text.customer_id.unique()[:10]"
   ]
  },
  {
   "cell_type": "code",
   "execution_count": 64,
   "id": "Uo7Ij1zcO6gA",
   "metadata": {
    "executionInfo": {
     "elapsed": 3,
     "status": "ok",
     "timestamp": 1646235662359,
     "user": {
      "displayName": "Mikhail Arhipkin",
      "photoUrl": "https://lh3.googleusercontent.com/a/default-user=s64",
      "userId": "16295844386857345050"
     },
     "user_tz": -180
    },
    "id": "Uo7Ij1zcO6gA"
   },
   "outputs": [],
   "source": [
    "def rec_all_users(users):\n",
    "    recommend = []  \n",
    "    for ind, user in enumerate(users):\n",
    "        if ind % 100_000 == 0:\n",
    "            print(ind)\n",
    "        recs = {}\n",
    "        us= fasttext_train_text_dct[user]\n",
    "        emb1 = model.get_sentence_vector(us)\n",
    "        cos = OrderedDict()\n",
    "        cnt = 0\n",
    "        for ind, val in fasttext_train_text_dct.items():\n",
    "            if cnt == 12:\n",
    "                break\n",
    "            items2 = val\n",
    "            emb2 = model.get_sentence_vector(items2)\n",
    "            cos_sim = cosine_similarity(emb1, emb2)\n",
    "            if cos_sim > 0.6:\n",
    "                cnt += 1  \n",
    "                rec = y1_train_dct[ind]\n",
    "                cos[rec] = cos_sim\n",
    "        best = ['0' + str(x) for x, _ in sorted(cos.items(), key=lambda x: x[1], reverse=True)[:12]]\n",
    "        recs['customer_id'] = user\n",
    "        recs['prediction'] = ' '.join(best)\n",
    "        recommend.append(recs)\n",
    "    return recommend"
   ]
  },
  {
   "cell_type": "code",
   "execution_count": 65,
   "id": "XxFjh_eMSWhE",
   "metadata": {
    "id": "XxFjh_eMSWhE"
   },
   "outputs": [
    {
     "name": "stdout",
     "output_type": "stream",
     "text": [
      "0\n",
      "100000\n",
      "200000\n",
      "300000\n",
      "400000\n",
      "500000\n",
      "600000\n",
      "700000\n",
      "800000\n",
      "900000\n",
      "1000000\n",
      "1100000\n",
      "1200000\n",
      "1300000\n",
      "CPU times: user 1h 17min 50s, sys: 19.1 s, total: 1h 18min 9s\n",
      "Wall time: 1h 25min 57s\n"
     ]
    }
   ],
   "source": [
    "%%time\n",
    "# 9.33\n",
    "# 9.38\n",
    "similariti = rec_all_users(users)"
   ]
  },
  {
   "cell_type": "code",
   "execution_count": 66,
   "id": "069f0a4e-c8fe-43ae-927c-e649327303de",
   "metadata": {},
   "outputs": [
    {
     "name": "stdout",
     "output_type": "stream",
     "text": [
      "CPU times: user 459 ms, sys: 950 ms, total: 1.41 s\n",
      "Wall time: 2.35 s\n"
     ]
    }
   ],
   "source": [
    "%%time\n",
    "similariti_df = pd.DataFrame(similariti)"
   ]
  },
  {
   "cell_type": "code",
   "execution_count": 67,
   "id": "98b71eb6-7251-4c94-b077-abe7ff9fef66",
   "metadata": {
    "id": "98b71eb6-7251-4c94-b077-abe7ff9fef66"
   },
   "outputs": [
    {
     "name": "stdout",
     "output_type": "stream",
     "text": [
      "1362281\n"
     ]
    },
    {
     "data": {
      "text/html": [
       "<div>\n",
       "<style scoped>\n",
       "    .dataframe tbody tr th:only-of-type {\n",
       "        vertical-align: middle;\n",
       "    }\n",
       "\n",
       "    .dataframe tbody tr th {\n",
       "        vertical-align: top;\n",
       "    }\n",
       "\n",
       "    .dataframe thead th {\n",
       "        text-align: right;\n",
       "    }\n",
       "</style>\n",
       "<table border=\"1\" class=\"dataframe\">\n",
       "  <thead>\n",
       "    <tr style=\"text-align: right;\">\n",
       "      <th></th>\n",
       "      <th>customer_id</th>\n",
       "      <th>prediction</th>\n",
       "    </tr>\n",
       "  </thead>\n",
       "  <tbody>\n",
       "    <tr>\n",
       "      <th>0</th>\n",
       "      <td>00000dbacae5abe5e23885899a1fa44253a17956c6d1c3d25f88aa139fdfc657</td>\n",
       "      <td>0568601043 0914441005 0794321007 0921226007 0896152002 0826211002 0857690004 0808651003 0719530003 0551080020 0850614001 0760084013</td>\n",
       "    </tr>\n",
       "    <tr>\n",
       "      <th>1</th>\n",
       "      <td>0000423b00ade91418cceaf3b26c6af3dd342b51fd051eec9c12fb36984420fa</td>\n",
       "      <td>0826211002 0794321007 0817166007 0719530003 0914441005 0896152002 0714824001 0921226007 0568601043 0808651003 0850614001 0740962001</td>\n",
       "    </tr>\n",
       "    <tr>\n",
       "      <th>2</th>\n",
       "      <td>000058a12d5b43e67d225668fa1f8d618c13dc232df0cad8ffe7ad4a1091e318</td>\n",
       "      <td>0794321007 0896152002 0826211002 0817166007 0914441005 0568601043 0921226007 0857690004 0880553001 0808651003 0719530003 0714824001</td>\n",
       "    </tr>\n",
       "    <tr>\n",
       "      <th>3</th>\n",
       "      <td>00005ca1c9ed5f5146b52ac8639a40ca9d57aeff4d1bd2c5feb1ca5dff07c43e</td>\n",
       "      <td>0742079001 0740962001 0817166007 0918292001 0914441005 0808840004 0909924004 0719530003 0714824001 0695324011 0841260012 0820671001</td>\n",
       "    </tr>\n",
       "    <tr>\n",
       "      <th>4</th>\n",
       "      <td>00006413d8573cd20ed7128e53b7b13819fe5cfc2d801fe7fc0f26dd8d65a85a</td>\n",
       "      <td>0896152002 0794321007 0817166007 0826211002 0909924004 0568601043 0914441005 0921226007 0857690004 0808651003 0880553001 0719530003</td>\n",
       "    </tr>\n",
       "  </tbody>\n",
       "</table>\n",
       "</div>"
      ],
      "text/plain": [
       "                                                        customer_id  \\\n",
       "0  00000dbacae5abe5e23885899a1fa44253a17956c6d1c3d25f88aa139fdfc657   \n",
       "1  0000423b00ade91418cceaf3b26c6af3dd342b51fd051eec9c12fb36984420fa   \n",
       "2  000058a12d5b43e67d225668fa1f8d618c13dc232df0cad8ffe7ad4a1091e318   \n",
       "3  00005ca1c9ed5f5146b52ac8639a40ca9d57aeff4d1bd2c5feb1ca5dff07c43e   \n",
       "4  00006413d8573cd20ed7128e53b7b13819fe5cfc2d801fe7fc0f26dd8d65a85a   \n",
       "\n",
       "                                                                                                                            prediction  \n",
       "0  0568601043 0914441005 0794321007 0921226007 0896152002 0826211002 0857690004 0808651003 0719530003 0551080020 0850614001 0760084013  \n",
       "1  0826211002 0794321007 0817166007 0719530003 0914441005 0896152002 0714824001 0921226007 0568601043 0808651003 0850614001 0740962001  \n",
       "2  0794321007 0896152002 0826211002 0817166007 0914441005 0568601043 0921226007 0857690004 0880553001 0808651003 0719530003 0714824001  \n",
       "3  0742079001 0740962001 0817166007 0918292001 0914441005 0808840004 0909924004 0719530003 0714824001 0695324011 0841260012 0820671001  \n",
       "4  0896152002 0794321007 0817166007 0826211002 0909924004 0568601043 0914441005 0921226007 0857690004 0808651003 0880553001 0719530003  "
      ]
     },
     "execution_count": 67,
     "metadata": {},
     "output_type": "execute_result"
    }
   ],
   "source": [
    "print(similariti_df.shape[0])\n",
    "similariti_df.head()"
   ]
  },
  {
   "cell_type": "code",
   "execution_count": 68,
   "id": "dd60cb71-abec-4c08-b22b-2ebf38ad2374",
   "metadata": {
    "id": "dd60cb71-abec-4c08-b22b-2ebf38ad2374"
   },
   "outputs": [
    {
     "data": {
      "text/plain": [
       "9699"
      ]
     },
     "execution_count": 68,
     "metadata": {},
     "output_type": "execute_result"
    }
   ],
   "source": [
    "submission.shape[0] - similariti_df.shape[0]"
   ]
  },
  {
   "cell_type": "code",
   "execution_count": 69,
   "id": "1ea4bd1f-12db-49c7-a1d6-de70154770de",
   "metadata": {
    "id": "1ea4bd1f-12db-49c7-a1d6-de70154770de"
   },
   "outputs": [],
   "source": [
    "cold_users = set(submission.customer_id.unique()) ^ set(similariti_df.customer_id.unique())"
   ]
  },
  {
   "cell_type": "code",
   "execution_count": 70,
   "id": "242cdc7a-0a64-46b3-a2d7-5231047157bc",
   "metadata": {},
   "outputs": [
    {
     "data": {
      "text/plain": [
       "'2020-09-22'"
      ]
     },
     "execution_count": 70,
     "metadata": {},
     "output_type": "execute_result"
    }
   ],
   "source": [
    "transactions.t_dat.max()"
   ]
  },
  {
   "cell_type": "code",
   "execution_count": 71,
   "id": "4862c2a0-e13c-4031-aaef-674e3eac7ddc",
   "metadata": {},
   "outputs": [
    {
     "name": "stdout",
     "output_type": "stream",
     "text": [
      "CPU times: user 986 ms, sys: 170 ms, total: 1.16 s\n",
      "Wall time: 1.89 s\n"
     ]
    }
   ],
   "source": [
    "%%time\n",
    "blw = transactions[transactions.t_dat >= '2020-06-22'].article_id.value_counts()[:12].index.tolist()"
   ]
  },
  {
   "cell_type": "code",
   "execution_count": 72,
   "id": "d593207b-a81d-467a-9512-d33fa2de9d85",
   "metadata": {},
   "outputs": [],
   "source": [
    "cold_users_lst = []\n",
    "for user in cold_users:\n",
    "    tmp = {}\n",
    "    tmp['customer_id'] = user\n",
    "    tmp['prediction'] = '0' + ' '.join([str(x) for x in blw])\n",
    "    cold_users_lst.append(tmp)"
   ]
  },
  {
   "cell_type": "code",
   "execution_count": 73,
   "id": "3f832126-ccd9-4c02-8edd-4ca58ff5afbc",
   "metadata": {},
   "outputs": [],
   "source": [
    "cold_users_df = pd.DataFrame(cold_users_lst)"
   ]
  },
  {
   "cell_type": "code",
   "execution_count": 74,
   "id": "b8b9e0a3-2d37-41ee-8d46-fc6974e5b33b",
   "metadata": {},
   "outputs": [],
   "source": [
    "result = pd.concat([similariti_df, cold_users_df], ignore_index=True)"
   ]
  },
  {
   "cell_type": "code",
   "execution_count": 75,
   "id": "da950f44-c0dd-42e5-a4ca-316c8a09576c",
   "metadata": {},
   "outputs": [],
   "source": [
    "if result.shape[0] == submission.shape[0]:\n",
    "    result.to_csv('result/metric_similarity.csv', index=False)"
   ]
  },
  {
   "cell_type": "code",
   "execution_count": null,
   "id": "3b977c53-c119-4d96-ab00-ac9d4287a433",
   "metadata": {},
   "outputs": [],
   "source": []
  }
 ],
 "metadata": {
  "colab": {
   "collapsed_sections": [],
   "name": "knn_metric_space-Copy1.ipynb",
   "provenance": []
  },
  "kernelspec": {
   "display_name": "Python 3.9.7 ('base')",
   "language": "python",
   "name": "python397jvsc74a57bd0906b979041c283a601a11438abfa7d47ca09ccacf699980db2ede086e4f51440"
  },
  "language_info": {
   "codemirror_mode": {
    "name": "ipython",
    "version": 3
   },
   "file_extension": ".py",
   "mimetype": "text/x-python",
   "name": "python",
   "nbconvert_exporter": "python",
   "pygments_lexer": "ipython3",
   "version": "3.9.7"
  }
 },
 "nbformat": 4,
 "nbformat_minor": 5
}
