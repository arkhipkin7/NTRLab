{
 "cells": [
  {
   "cell_type": "code",
   "execution_count": 1,
   "id": "5450562d-5d17-4034-912a-1268f8d279ed",
   "metadata": {},
   "outputs": [],
   "source": [
    "import pandas as pd\n",
    "\n",
    "from tqdm import tqdm\n",
    "\n",
    "pd.set_option(\"max_colwidth\", None)"
   ]
  },
  {
   "cell_type": "markdown",
   "id": "a6bf1919-05fc-4227-8102-cdee1f38b352",
   "metadata": {},
   "source": [
    "## load data"
   ]
  },
  {
   "cell_type": "code",
   "execution_count": 2,
   "id": "0e711720-cd77-47d8-b374-24667c47bbad",
   "metadata": {},
   "outputs": [
    {
     "name": "stdout",
     "output_type": "stream",
     "text": [
      "CPU times: user 15.7 s, sys: 1.58 s, total: 17.3 s\n",
      "Wall time: 18 s\n"
     ]
    },
    {
     "data": {
      "text/plain": [
       "(31788324, 3)"
      ]
     },
     "execution_count": 2,
     "metadata": {},
     "output_type": "execute_result"
    }
   ],
   "source": [
    "%%time\n",
    "transactions = pd.read_csv(\n",
    "    'data/transactions_train.csv',\n",
    "    usecols=['t_dat', 'customer_id', 'article_id'],\n",
    "    dtype={'article_id': str})\n",
    "transactions.shape"
   ]
  },
  {
   "cell_type": "code",
   "execution_count": 3,
   "id": "d73e12ff-5726-43d8-8087-4f57c82f5650",
   "metadata": {},
   "outputs": [
    {
     "data": {
      "text/html": [
       "<div>\n",
       "<style scoped>\n",
       "    .dataframe tbody tr th:only-of-type {\n",
       "        vertical-align: middle;\n",
       "    }\n",
       "\n",
       "    .dataframe tbody tr th {\n",
       "        vertical-align: top;\n",
       "    }\n",
       "\n",
       "    .dataframe thead th {\n",
       "        text-align: right;\n",
       "    }\n",
       "</style>\n",
       "<table border=\"1\" class=\"dataframe\">\n",
       "  <thead>\n",
       "    <tr style=\"text-align: right;\">\n",
       "      <th></th>\n",
       "      <th>t_dat</th>\n",
       "      <th>customer_id</th>\n",
       "      <th>article_id</th>\n",
       "    </tr>\n",
       "  </thead>\n",
       "  <tbody>\n",
       "    <tr>\n",
       "      <th>0</th>\n",
       "      <td>2018-09-20</td>\n",
       "      <td>000058a12d5b43e67d225668fa1f8d618c13dc232df0cad8ffe7ad4a1091e318</td>\n",
       "      <td>0663713001</td>\n",
       "    </tr>\n",
       "    <tr>\n",
       "      <th>1</th>\n",
       "      <td>2018-09-20</td>\n",
       "      <td>000058a12d5b43e67d225668fa1f8d618c13dc232df0cad8ffe7ad4a1091e318</td>\n",
       "      <td>0541518023</td>\n",
       "    </tr>\n",
       "    <tr>\n",
       "      <th>2</th>\n",
       "      <td>2018-09-20</td>\n",
       "      <td>00007d2de826758b65a93dd24ce629ed66842531df6699338c5570910a014cc2</td>\n",
       "      <td>0505221004</td>\n",
       "    </tr>\n",
       "    <tr>\n",
       "      <th>3</th>\n",
       "      <td>2018-09-20</td>\n",
       "      <td>00007d2de826758b65a93dd24ce629ed66842531df6699338c5570910a014cc2</td>\n",
       "      <td>0685687003</td>\n",
       "    </tr>\n",
       "    <tr>\n",
       "      <th>4</th>\n",
       "      <td>2018-09-20</td>\n",
       "      <td>00007d2de826758b65a93dd24ce629ed66842531df6699338c5570910a014cc2</td>\n",
       "      <td>0685687004</td>\n",
       "    </tr>\n",
       "  </tbody>\n",
       "</table>\n",
       "</div>"
      ],
      "text/plain": [
       "        t_dat  \\\n",
       "0  2018-09-20   \n",
       "1  2018-09-20   \n",
       "2  2018-09-20   \n",
       "3  2018-09-20   \n",
       "4  2018-09-20   \n",
       "\n",
       "                                                        customer_id  \\\n",
       "0  000058a12d5b43e67d225668fa1f8d618c13dc232df0cad8ffe7ad4a1091e318   \n",
       "1  000058a12d5b43e67d225668fa1f8d618c13dc232df0cad8ffe7ad4a1091e318   \n",
       "2  00007d2de826758b65a93dd24ce629ed66842531df6699338c5570910a014cc2   \n",
       "3  00007d2de826758b65a93dd24ce629ed66842531df6699338c5570910a014cc2   \n",
       "4  00007d2de826758b65a93dd24ce629ed66842531df6699338c5570910a014cc2   \n",
       "\n",
       "   article_id  \n",
       "0  0663713001  \n",
       "1  0541518023  \n",
       "2  0505221004  \n",
       "3  0685687003  \n",
       "4  0685687004  "
      ]
     },
     "execution_count": 3,
     "metadata": {},
     "output_type": "execute_result"
    }
   ],
   "source": [
    "transactions.head()"
   ]
  },
  {
   "cell_type": "code",
   "execution_count": 4,
   "id": "35c46353-7a9b-4b98-b411-9f905bdbe04c",
   "metadata": {},
   "outputs": [
    {
     "name": "stdout",
     "output_type": "stream",
     "text": [
      "CPU times: user 1.44 s, sys: 105 ms, total: 1.54 s\n",
      "Wall time: 1.54 s\n"
     ]
    },
    {
     "data": {
      "text/plain": [
       "(1371980, 2)"
      ]
     },
     "execution_count": 4,
     "metadata": {},
     "output_type": "execute_result"
    }
   ],
   "source": [
    "%%time\n",
    "submission = pd.read_csv('data/sample_submission.csv')\n",
    "submission.shape"
   ]
  },
  {
   "cell_type": "markdown",
   "id": "b8aa29a3-dc2d-4c08-a59b-3c71c99bb0d6",
   "metadata": {},
   "source": [
    "## preprocess data"
   ]
  },
  {
   "cell_type": "code",
   "execution_count": 5,
   "id": "8058bf13-2b16-4bbf-abdd-9a3e73d92032",
   "metadata": {},
   "outputs": [],
   "source": [
    "transactions.t_dat = pd.to_datetime(transactions.t_dat)"
   ]
  },
  {
   "cell_type": "code",
   "execution_count": 6,
   "id": "03362d0c-0fd5-4db2-b8ea-0beb701948b7",
   "metadata": {},
   "outputs": [
    {
     "data": {
      "text/plain": [
       "Timestamp('2020-09-22 00:00:00')"
      ]
     },
     "execution_count": 6,
     "metadata": {},
     "output_type": "execute_result"
    }
   ],
   "source": [
    "transactions.t_dat.max()"
   ]
  },
  {
   "cell_type": "code",
   "execution_count": 7,
   "id": "d050224f-7ef8-4a66-99d4-f1d83c0e2ff6",
   "metadata": {},
   "outputs": [],
   "source": [
    "df_1w = transactions[transactions['t_dat'] >= pd.to_datetime('2020-09-15')].copy()\n",
    "df_2w = transactions[(transactions['t_dat'] >= pd.to_datetime('2020-09-08'))].copy()\n",
    "df_3w = transactions[transactions['t_dat'] >= pd.to_datetime('2020-09-01')].copy()\n",
    "df_4w = transactions[transactions['t_dat'] >= pd.to_datetime('2020-08-13')].copy()"
   ]
  },
  {
   "cell_type": "code",
   "execution_count": 8,
   "id": "140a6c8c-21e6-419e-abfb-3cda35087908",
   "metadata": {},
   "outputs": [
    {
     "name": "stderr",
     "output_type": "stream",
     "text": [
      "266364it [00:00, 1806479.12it/s]\n"
     ]
    }
   ],
   "source": [
    "purchase_dict_1w = {}\n",
    "\n",
    "for row in tqdm(zip(df_1w['customer_id'], df_1w['article_id'])):\n",
    "    cust_id, art_id = row\n",
    "    if cust_id not in purchase_dict_1w:\n",
    "        purchase_dict_1w[cust_id] = {}\n",
    "    if art_id not in purchase_dict_1w[cust_id]:\n",
    "        purchase_dict_1w[cust_id][art_id] = 0\n",
    "    purchase_dict_1w[cust_id][art_id] += 1"
   ]
  },
  {
   "cell_type": "code",
   "execution_count": 9,
   "id": "8d6a85d3-1d6a-41e5-a005-db078b4fd206",
   "metadata": {},
   "outputs": [
    {
     "name": "stderr",
     "output_type": "stream",
     "text": [
      "531967it [00:00, 1775886.83it/s]\n"
     ]
    }
   ],
   "source": [
    "purchase_dict_2w = {}\n",
    "\n",
    "for row in tqdm(zip(df_2w['customer_id'], df_2w['article_id'])):\n",
    "    cust_id, art_id = row\n",
    "    if cust_id not in purchase_dict_2w:\n",
    "        purchase_dict_2w[cust_id] = {}\n",
    "        \n",
    "    if art_id not in purchase_dict_2w[cust_id]:\n",
    "        purchase_dict_2w[cust_id][art_id] = 0\n",
    "    purchase_dict_2w[cust_id][art_id] += 1"
   ]
  },
  {
   "cell_type": "code",
   "execution_count": 10,
   "id": "c4fee097-69f9-4ae5-8617-aac1f11c3dba",
   "metadata": {},
   "outputs": [
    {
     "name": "stderr",
     "output_type": "stream",
     "text": [
      "798269it [00:00, 1891861.74it/s]\n"
     ]
    }
   ],
   "source": [
    "purchase_dict_3w = {}\n",
    "\n",
    "for row in tqdm(zip(df_3w['customer_id'], df_3w['article_id'])):\n",
    "    cust_id, art_id = row\n",
    "    if cust_id not in purchase_dict_3w:\n",
    "        purchase_dict_3w[cust_id] = {}\n",
    "        \n",
    "    if art_id not in purchase_dict_3w[cust_id]:\n",
    "        purchase_dict_3w[cust_id][art_id] = 0\n",
    "    purchase_dict_3w[cust_id][art_id] += 1"
   ]
  },
  {
   "cell_type": "code",
   "execution_count": 11,
   "id": "ae9aae2f-c455-456d-8587-9d04a0d1c9be",
   "metadata": {},
   "outputs": [
    {
     "name": "stderr",
     "output_type": "stream",
     "text": [
      "1494173it [00:00, 1937276.48it/s]\n"
     ]
    }
   ],
   "source": [
    "purchase_dict_4w = {}\n",
    "\n",
    "for row in tqdm(zip(df_4w['customer_id'], df_4w['article_id'])):\n",
    "    cust_id, art_id = row\n",
    "    if cust_id not in purchase_dict_4w:\n",
    "        purchase_dict_4w[cust_id] = {}\n",
    "        \n",
    "    if art_id not in purchase_dict_4w[cust_id]:\n",
    "        purchase_dict_4w[cust_id][art_id] = 0\n",
    "    purchase_dict_4w[cust_id][art_id] += 1"
   ]
  },
  {
   "cell_type": "code",
   "execution_count": 27,
   "id": "2dbbebbe-dda3-40af-a3e9-a83d5df7ad0f",
   "metadata": {},
   "outputs": [],
   "source": [
    "dummy_list_1w = list((df_1w['article_id'].value_counts()).index)[:12]\n",
    "dummy_list_2w = list((df_2w['article_id'].value_counts()).index)[:12]\n",
    "dummy_list_3w = list((df_3w['article_id'].value_counts()).index)[:12]\n",
    "dummy_list_4w = list((df_4w['article_id'].value_counts()).index)[:12]"
   ]
  },
  {
   "cell_type": "code",
   "execution_count": 28,
   "id": "498b6502-e029-48b0-bda2-037aa59d6e15",
   "metadata": {},
   "outputs": [],
   "source": [
    "not_so_fancy_but_fast_benchmark = submission[['customer_id']]\n",
    "prediction_list = []\n",
    "\n",
    "dummy_pred = ' '.join(transactions[(transactions.t_dat>='2020-09-08') & (transactions.t_dat < pd.to_datetime('2020-09-15'))].article_id.value_counts()[:12].index)"
   ]
  },
  {
   "cell_type": "code",
   "execution_count": 29,
   "id": "44206f5c-7c4a-4f3d-8501-e40ad89e3b32",
   "metadata": {},
   "outputs": [
    {
     "name": "stderr",
     "output_type": "stream",
     "text": [
      "100%|████████████████████████████| 1371980/1371980 [00:01<00:00, 1310615.52it/s]\n"
     ]
    }
   ],
   "source": [
    "for cust_id in tqdm(submission['customer_id'].values.reshape((-1,))):\n",
    "    if cust_id in purchase_dict_1w:\n",
    "        l = sorted((purchase_dict_1w[cust_id]).items(), key=lambda x: x[1], reverse=True)\n",
    "        l = [y[0] for y in l]\n",
    "        if len(l)>12:\n",
    "            s = ' '.join(l[:12])\n",
    "        else:\n",
    "            s = ' '.join(l + dummy_list_1w[: (12 - len(l))])\n",
    "    elif cust_id in purchase_dict_2w:\n",
    "        l = sorted((purchase_dict_2w[cust_id]).items(), key=lambda x: x[1], reverse=True)\n",
    "        l = [y[0] for y in l]\n",
    "        if len(l)>12:\n",
    "            s = ' '.join(l[:12])\n",
    "        else:\n",
    "            s = ' '.join(l + dummy_list_2w[: (12 - len(l))])\n",
    "    elif cust_id in purchase_dict_3w:\n",
    "        l = sorted((purchase_dict_3w[cust_id]).items(), key=lambda x: x[1], reverse=True)\n",
    "        l = [y[0] for y in l]\n",
    "        if len(l)>12:\n",
    "            s = ' '.join(l[:12])\n",
    "        else:\n",
    "            s = ' '.join(l + dummy_list_3w[: (12 - len(l))])\n",
    "    elif cust_id in purchase_dict_4w:\n",
    "        l = sorted((purchase_dict_4w[cust_id]).items(), key=lambda x: x[1], reverse=True)\n",
    "        l = [y[0] for y in l]\n",
    "        if len(l)>12:\n",
    "            s = ' '.join(l[:12])\n",
    "        else:\n",
    "            s = ' '.join(l+dummy_list_4w[:(12-len(l))])\n",
    "    else:\n",
    "        s = dummy_pred\n",
    "    prediction_list.append(s)"
   ]
  },
  {
   "cell_type": "code",
   "execution_count": 32,
   "id": "f55bd59a-833b-46bf-96d4-9bd12b12c16f",
   "metadata": {},
   "outputs": [
    {
     "name": "stdout",
     "output_type": "stream",
     "text": [
      "(1371980, 2)\n"
     ]
    },
    {
     "data": {
      "text/html": [
       "<div>\n",
       "<style scoped>\n",
       "    .dataframe tbody tr th:only-of-type {\n",
       "        vertical-align: middle;\n",
       "    }\n",
       "\n",
       "    .dataframe tbody tr th {\n",
       "        vertical-align: top;\n",
       "    }\n",
       "\n",
       "    .dataframe thead th {\n",
       "        text-align: right;\n",
       "    }\n",
       "</style>\n",
       "<table border=\"1\" class=\"dataframe\">\n",
       "  <thead>\n",
       "    <tr style=\"text-align: right;\">\n",
       "      <th></th>\n",
       "      <th>customer_id</th>\n",
       "      <th>prediction</th>\n",
       "    </tr>\n",
       "  </thead>\n",
       "  <tbody>\n",
       "    <tr>\n",
       "      <th>0</th>\n",
       "      <td>00000dbacae5abe5e23885899a1fa44253a17956c6d1c3d25f88aa139fdfc657</td>\n",
       "      <td>0568601043 0751471001 0909370001 0918522001 0924243001 0918292001 0915526001 0448509014 0915529003 0751471043 0706016001 0865799006</td>\n",
       "    </tr>\n",
       "    <tr>\n",
       "      <th>1</th>\n",
       "      <td>0000423b00ade91418cceaf3b26c6af3dd342b51fd051eec9c12fb36984420fa</td>\n",
       "      <td>0909370001 0865799006 0918522001 0448509014 0751471001 0924243001 0918292001 0762846027 0863646001 0809238001 0715624001 0673677002</td>\n",
       "    </tr>\n",
       "    <tr>\n",
       "      <th>2</th>\n",
       "      <td>000058a12d5b43e67d225668fa1f8d618c13dc232df0cad8ffe7ad4a1091e318</td>\n",
       "      <td>0794321007 0924243001 0924243002 0923758001 0918522001 0909370001 0866731001 0751471001 0915529003 0915529005 0448509014 0762846027</td>\n",
       "    </tr>\n",
       "    <tr>\n",
       "      <th>3</th>\n",
       "      <td>00005ca1c9ed5f5146b52ac8639a40ca9d57aeff4d1bd2c5feb1ca5dff07c43e</td>\n",
       "      <td>0909370001 0865799006 0918522001 0448509014 0751471001 0924243001 0918292001 0762846027 0863646001 0809238001 0715624001 0673677002</td>\n",
       "    </tr>\n",
       "    <tr>\n",
       "      <th>4</th>\n",
       "      <td>00006413d8573cd20ed7128e53b7b13819fe5cfc2d801fe7fc0f26dd8d65a85a</td>\n",
       "      <td>0909370001 0865799006 0918522001 0448509014 0751471001 0924243001 0918292001 0762846027 0863646001 0809238001 0715624001 0673677002</td>\n",
       "    </tr>\n",
       "  </tbody>\n",
       "</table>\n",
       "</div>"
      ],
      "text/plain": [
       "                                                        customer_id  \\\n",
       "0  00000dbacae5abe5e23885899a1fa44253a17956c6d1c3d25f88aa139fdfc657   \n",
       "1  0000423b00ade91418cceaf3b26c6af3dd342b51fd051eec9c12fb36984420fa   \n",
       "2  000058a12d5b43e67d225668fa1f8d618c13dc232df0cad8ffe7ad4a1091e318   \n",
       "3  00005ca1c9ed5f5146b52ac8639a40ca9d57aeff4d1bd2c5feb1ca5dff07c43e   \n",
       "4  00006413d8573cd20ed7128e53b7b13819fe5cfc2d801fe7fc0f26dd8d65a85a   \n",
       "\n",
       "                                                                                                                            prediction  \n",
       "0  0568601043 0751471001 0909370001 0918522001 0924243001 0918292001 0915526001 0448509014 0915529003 0751471043 0706016001 0865799006  \n",
       "1  0909370001 0865799006 0918522001 0448509014 0751471001 0924243001 0918292001 0762846027 0863646001 0809238001 0715624001 0673677002  \n",
       "2  0794321007 0924243001 0924243002 0923758001 0918522001 0909370001 0866731001 0751471001 0915529003 0915529005 0448509014 0762846027  \n",
       "3  0909370001 0865799006 0918522001 0448509014 0751471001 0924243001 0918292001 0762846027 0863646001 0809238001 0715624001 0673677002  \n",
       "4  0909370001 0865799006 0918522001 0448509014 0751471001 0924243001 0918292001 0762846027 0863646001 0809238001 0715624001 0673677002  "
      ]
     },
     "execution_count": 32,
     "metadata": {},
     "output_type": "execute_result"
    }
   ],
   "source": [
    "not_so_fancy_but_fast_benchmark['prediction'] = prediction_list\n",
    "print(not_so_fancy_but_fast_benchmark.shape)\n",
    "not_so_fancy_but_fast_benchmark.head()"
   ]
  },
  {
   "cell_type": "code",
   "execution_count": 52,
   "id": "97afbad0-eb5f-4c73-87e4-98cda3ed471e",
   "metadata": {},
   "outputs": [],
   "source": [
    "not_so_fancy_but_fast_benchmark.to_csv('result/not_so_fancy_but_fast_benchmark.csv', index=False)"
   ]
  },
  {
   "cell_type": "code",
   "execution_count": null,
   "id": "35946bee-3b1a-4466-9256-be64bbe58466",
   "metadata": {},
   "outputs": [],
   "source": []
  },
  {
   "cell_type": "code",
   "execution_count": null,
   "id": "64509879-75c8-42bc-8d78-f142e87febe3",
   "metadata": {},
   "outputs": [],
   "source": []
  }
 ],
 "metadata": {
  "kernelspec": {
   "display_name": "Python 3.9.7 ('base')",
   "language": "python",
   "name": "python397jvsc74a57bd0906b979041c283a601a11438abfa7d47ca09ccacf699980db2ede086e4f51440"
  },
  "language_info": {
   "codemirror_mode": {
    "name": "ipython",
    "version": 3
   },
   "file_extension": ".py",
   "mimetype": "text/x-python",
   "name": "python",
   "nbconvert_exporter": "python",
   "pygments_lexer": "ipython3",
   "version": "3.9.7"
  }
 },
 "nbformat": 4,
 "nbformat_minor": 5
}
